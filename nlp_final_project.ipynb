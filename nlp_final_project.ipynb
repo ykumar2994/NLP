{
 "cells": [
  {
   "cell_type": "markdown",
   "id": "cc860c20",
   "metadata": {},
   "source": [
    "# Natural Language Processing 02 (DSMM Group 2)\n",
    "\n",
    "# FINAL PROJECT\n",
    "\n",
    "## 1. Yogesh Kumar (c0852435)"
   ]
  },
  {
   "cell_type": "markdown",
   "id": "06df830b",
   "metadata": {},
   "source": [
    "# Creating dataframe  "
   ]
  },
  {
   "cell_type": "code",
   "execution_count": 1,
   "id": "4895851d",
   "metadata": {
    "scrolled": true
   },
   "outputs": [
    {
     "name": "stdout",
     "output_type": "stream",
     "text": [
      "   job_id                                      title               location  \\\n",
      "0       1                           Marketing Intern       US, NY, New York   \n",
      "1       2  Customer Service - Cloud Video Production         NZ, , Auckland   \n",
      "2       3    Commissioning Machinery Assistant (CMA)          US, IA, Wever   \n",
      "3       4          Account Executive - Washington DC     US, DC, Washington   \n",
      "4       5                        Bill Review Manager     US, FL, Fort Worth   \n",
      "5       6                           Accounting Clerk               US, MD,    \n",
      "6       7                      Head of Content (m/f)         DE, BE, Berlin   \n",
      "7       8           Lead Guest Service Specialist     US, CA, San Francisco   \n",
      "8       9                                 HP BSM SME      US, FL, Pensacola   \n",
      "9      10    Customer Service Associate - Part Time         US, AZ, Phoenix   \n",
      "\n",
      "   department salary_range                                    company_profile  \\\n",
      "0   Marketing          NaN  We're Food52, and we've created a groundbreaki...   \n",
      "1     Success          NaN  90 Seconds, the worlds Cloud Video Production ...   \n",
      "2         NaN          NaN  Valor Services provides Workforce Solutions th...   \n",
      "3       Sales          NaN  Our passion for improving quality of life thro...   \n",
      "4         NaN          NaN  SpotSource Solutions LLC is a Global Human Cap...   \n",
      "5         NaN          NaN                                                NaN   \n",
      "6  ANDROIDPIT  20000-28000  Founded in 2009, the Fonpit AG rose with its i...   \n",
      "7         NaN          NaN  Airenvy’s mission is to provide lucrative yet ...   \n",
      "8         NaN          NaN  Solutions3 is a woman-owned small business who...   \n",
      "9         NaN          NaN  Novitex Enterprise Solutions, formerly Pitney ...   \n",
      "\n",
      "                                         description  \\\n",
      "0  Food52, a fast-growing, James Beard Award-winn...   \n",
      "1  Organised - Focused - Vibrant - Awesome!Do you...   \n",
      "2  Our client, located in Houston, is actively se...   \n",
      "3  THE COMPANY: ESRI – Environmental Systems Rese...   \n",
      "4  JOB TITLE: Itemization Review ManagerLOCATION:...   \n",
      "5  Job OverviewApex is an environmental consultin...   \n",
      "6  Your Responsibilities: Manage the English-spea...   \n",
      "7  Who is Airenvy?Hey there! We are seasoned entr...   \n",
      "8  Implementation/Configuration/Testing/Training ...   \n",
      "9  The Customer Service Associate will be based i...   \n",
      "\n",
      "                                        requirements  \\\n",
      "0  Experience with content management systems a m...   \n",
      "1  What we expect from you:Your key responsibilit...   \n",
      "2  Implement pre-commissioning and commissioning ...   \n",
      "3  EDUCATION: Bachelor’s or Master’s in GIS, busi...   \n",
      "4  QUALIFICATIONS:RN license in the State of Texa...   \n",
      "5                                                NaN   \n",
      "6  Your Know-How:                                ...   \n",
      "7  Experience with CRM software, live chat, and p...   \n",
      "8  MUST BE A US CITIZEN.An active TS/SCI clearanc...   \n",
      "9  Minimum Requirements:Minimum of 6 months custo...   \n",
      "\n",
      "                                            benefits  telecommuting  \\\n",
      "0                                                NaN              0   \n",
      "1  What you will get from usThrough being part of...              0   \n",
      "2                                                NaN              0   \n",
      "3  Our culture is anything but corporate—we have ...              0   \n",
      "4                              Full Benefits Offered              0   \n",
      "5                                                NaN              0   \n",
      "6  Your Benefits: Being part of a fast-growing co...              0   \n",
      "7  Competitive Pay. You'll be able to eat steak e...              0   \n",
      "8                                                NaN              0   \n",
      "9                                                NaN              0   \n",
      "\n",
      "   has_company_logo  has_questions employment_type required_experience  \\\n",
      "0                 1              0           Other          Internship   \n",
      "1                 1              0       Full-time      Not Applicable   \n",
      "2                 1              0             NaN                 NaN   \n",
      "3                 1              0       Full-time    Mid-Senior level   \n",
      "4                 1              1       Full-time    Mid-Senior level   \n",
      "5                 0              0             NaN                 NaN   \n",
      "6                 1              1       Full-time    Mid-Senior level   \n",
      "7                 1              1             NaN                 NaN   \n",
      "8                 1              1       Full-time           Associate   \n",
      "9                 1              0       Part-time         Entry level   \n",
      "\n",
      "          required_education                             industry  \\\n",
      "0                        NaN                                  NaN   \n",
      "1                        NaN            Marketing and Advertising   \n",
      "2                        NaN                                  NaN   \n",
      "3          Bachelor's Degree                    Computer Software   \n",
      "4          Bachelor's Degree               Hospital & Health Care   \n",
      "5                        NaN                                  NaN   \n",
      "6            Master's Degree                         Online Media   \n",
      "7                        NaN                                  NaN   \n",
      "8                        NaN  Information Technology and Services   \n",
      "9  High School or equivalent                   Financial Services   \n",
      "\n",
      "               function  fraudulent  \n",
      "0             Marketing           0  \n",
      "1      Customer Service           0  \n",
      "2                   NaN           0  \n",
      "3                 Sales           0  \n",
      "4  Health Care Provider           0  \n",
      "5                   NaN           0  \n",
      "6            Management           0  \n",
      "7                   NaN           0  \n",
      "8                   NaN           0  \n",
      "9      Customer Service           0  \n",
      "Index(['job_id', 'title', 'location', 'department', 'salary_range',\n",
      "       'company_profile', 'description', 'requirements', 'benefits',\n",
      "       'telecommuting', 'has_company_logo', 'has_questions', 'employment_type',\n",
      "       'required_experience', 'required_education', 'industry', 'function',\n",
      "       'fraudulent'],\n",
      "      dtype='object')\n"
     ]
    }
   ],
   "source": [
    "import numpy as np \n",
    "import pandas as pd \n",
    "df = pd.read_csv('C:/Users/yogi/documents/fake_job_postings.csv')\n",
    "print(df.head(10))\n",
    "print(df.columns)"
   ]
  },
  {
   "cell_type": "markdown",
   "id": "82597cf7",
   "metadata": {},
   "source": [
    "# Data Pre-Processing "
   ]
  },
  {
   "cell_type": "code",
   "execution_count": 2,
   "id": "058ddc2d",
   "metadata": {},
   "outputs": [
    {
     "name": "stdout",
     "output_type": "stream",
     "text": [
      "<class 'pandas.core.frame.DataFrame'>\n",
      "RangeIndex: 17880 entries, 0 to 17879\n",
      "Data columns (total 18 columns):\n",
      " #   Column               Non-Null Count  Dtype \n",
      "---  ------               --------------  ----- \n",
      " 0   job_id               17880 non-null  int64 \n",
      " 1   title                17880 non-null  object\n",
      " 2   location             17534 non-null  object\n",
      " 3   department           6333 non-null   object\n",
      " 4   salary_range         2868 non-null   object\n",
      " 5   company_profile      14572 non-null  object\n",
      " 6   description          17879 non-null  object\n",
      " 7   requirements         15185 non-null  object\n",
      " 8   benefits             10670 non-null  object\n",
      " 9   telecommuting        17880 non-null  int64 \n",
      " 10  has_company_logo     17880 non-null  int64 \n",
      " 11  has_questions        17880 non-null  int64 \n",
      " 12  employment_type      14409 non-null  object\n",
      " 13  required_experience  10830 non-null  object\n",
      " 14  required_education   9775 non-null   object\n",
      " 15  industry             12977 non-null  object\n",
      " 16  function             11425 non-null  object\n",
      " 17  fraudulent           17880 non-null  int64 \n",
      "dtypes: int64(5), object(13)\n",
      "memory usage: 2.5+ MB\n",
      "None\n",
      "job_id                     0\n",
      "has_questions              0\n",
      "has_company_logo           0\n",
      "telecommuting              0\n",
      "fraudulent                 0\n",
      "title                      0\n",
      "description                1\n",
      "location                 346\n",
      "requirements            2695\n",
      "company_profile         3308\n",
      "employment_type         3471\n",
      "industry                4903\n",
      "function                6455\n",
      "required_experience     7050\n",
      "benefits                7210\n",
      "required_education      8105\n",
      "department             11547\n",
      "salary_range           15012\n",
      "dtype: int64\n"
     ]
    }
   ],
   "source": [
    "#checking null values\n",
    "print(df.info())\n",
    "print(df.isnull().sum().sort_values())"
   ]
  },
  {
   "cell_type": "code",
   "execution_count": 3,
   "id": "bf32026f",
   "metadata": {},
   "outputs": [
    {
     "data": {
      "text/plain": [
       "job_id                 0\n",
       "industry               0\n",
       "required_education     0\n",
       "required_experience    0\n",
       "employment_type        0\n",
       "has_questions          0\n",
       "has_company_logo       0\n",
       "telecommuting          0\n",
       "benefits               0\n",
       "requirements           0\n",
       "description            0\n",
       "company_profile        0\n",
       "salary_range           0\n",
       "department             0\n",
       "location               0\n",
       "title                  0\n",
       "function               0\n",
       "fraudulent             0\n",
       "dtype: int64"
      ]
     },
     "execution_count": 3,
     "metadata": {},
     "output_type": "execute_result"
    }
   ],
   "source": [
    "# filling null values them\n",
    "df.fillna('',inplace=True)\n",
    "df.isnull().sum().sort_values()"
   ]
  },
  {
   "cell_type": "code",
   "execution_count": 4,
   "id": "8609924c",
   "metadata": {
    "scrolled": true
   },
   "outputs": [
    {
     "name": "stdout",
     "output_type": "stream",
     "text": [
      "   job_id                                      title               location  \\\n",
      "0       1                           Marketing Intern       US, NY, New York   \n",
      "1       2  Customer Service - Cloud Video Production         NZ, , Auckland   \n",
      "2       3    Commissioning Machinery Assistant (CMA)          US, IA, Wever   \n",
      "3       4          Account Executive - Washington DC     US, DC, Washington   \n",
      "4       5                        Bill Review Manager     US, FL, Fort Worth   \n",
      "5       6                           Accounting Clerk               US, MD,    \n",
      "6       7                      Head of Content (m/f)         DE, BE, Berlin   \n",
      "7       8           Lead Guest Service Specialist     US, CA, San Francisco   \n",
      "8       9                                 HP BSM SME      US, FL, Pensacola   \n",
      "9      10    Customer Service Associate - Part Time         US, AZ, Phoenix   \n",
      "\n",
      "   department salary_range                                    company_profile  \\\n",
      "0   Marketing               We're Food52, and we've created a groundbreaki...   \n",
      "1     Success               90 Seconds, the worlds Cloud Video Production ...   \n",
      "2                           Valor Services provides Workforce Solutions th...   \n",
      "3       Sales               Our passion for improving quality of life thro...   \n",
      "4                           SpotSource Solutions LLC is a Global Human Cap...   \n",
      "5                                                                               \n",
      "6  ANDROIDPIT  20000-28000  Founded in 2009, the Fonpit AG rose with its i...   \n",
      "7                           Airenvy’s mission is to provide lucrative yet ...   \n",
      "8                           Solutions3 is a woman-owned small business who...   \n",
      "9                           Novitex Enterprise Solutions, formerly Pitney ...   \n",
      "\n",
      "                                         description  \\\n",
      "0  Food52, a fast-growing, James Beard Award-winn...   \n",
      "1  Organised - Focused - Vibrant - Awesome!Do you...   \n",
      "2  Our client, located in Houston, is actively se...   \n",
      "3  THE COMPANY: ESRI – Environmental Systems Rese...   \n",
      "4  JOB TITLE: Itemization Review ManagerLOCATION:...   \n",
      "5  Job OverviewApex is an environmental consultin...   \n",
      "6  Your Responsibilities: Manage the English-spea...   \n",
      "7  Who is Airenvy?Hey there! We are seasoned entr...   \n",
      "8  Implementation/Configuration/Testing/Training ...   \n",
      "9  The Customer Service Associate will be based i...   \n",
      "\n",
      "                                        requirements  \\\n",
      "0  Experience with content management systems a m...   \n",
      "1  What we expect from you:Your key responsibilit...   \n",
      "2  Implement pre-commissioning and commissioning ...   \n",
      "3  EDUCATION: Bachelor’s or Master’s in GIS, busi...   \n",
      "4  QUALIFICATIONS:RN license in the State of Texa...   \n",
      "5                                                      \n",
      "6  Your Know-How:                                ...   \n",
      "7  Experience with CRM software, live chat, and p...   \n",
      "8  MUST BE A US CITIZEN.An active TS/SCI clearanc...   \n",
      "9  Minimum Requirements:Minimum of 6 months custo...   \n",
      "\n",
      "                                            benefits  telecommuting  \\\n",
      "0                                                                 0   \n",
      "1  What you will get from usThrough being part of...              0   \n",
      "2                                                                 0   \n",
      "3  Our culture is anything but corporate—we have ...              0   \n",
      "4                              Full Benefits Offered              0   \n",
      "5                                                                 0   \n",
      "6  Your Benefits: Being part of a fast-growing co...              0   \n",
      "7  Competitive Pay. You'll be able to eat steak e...              0   \n",
      "8                                                                 0   \n",
      "9                                                                 0   \n",
      "\n",
      "   has_company_logo  has_questions employment_type required_experience  \\\n",
      "0                 1              0           Other          Internship   \n",
      "1                 1              0       Full-time      Not Applicable   \n",
      "2                 1              0                                       \n",
      "3                 1              0       Full-time    Mid-Senior level   \n",
      "4                 1              1       Full-time    Mid-Senior level   \n",
      "5                 0              0                                       \n",
      "6                 1              1       Full-time    Mid-Senior level   \n",
      "7                 1              1                                       \n",
      "8                 1              1       Full-time           Associate   \n",
      "9                 1              0       Part-time         Entry level   \n",
      "\n",
      "          required_education                             industry  \\\n",
      "0                                                                   \n",
      "1                                       Marketing and Advertising   \n",
      "2                                                                   \n",
      "3          Bachelor's Degree                    Computer Software   \n",
      "4          Bachelor's Degree               Hospital & Health Care   \n",
      "5                                                                   \n",
      "6            Master's Degree                         Online Media   \n",
      "7                                                                   \n",
      "8                             Information Technology and Services   \n",
      "9  High School or equivalent                   Financial Services   \n",
      "\n",
      "               function  fraudulent  \n",
      "0             Marketing           0  \n",
      "1      Customer Service           0  \n",
      "2                                 0  \n",
      "3                 Sales           0  \n",
      "4  Health Care Provider           0  \n",
      "5                                 0  \n",
      "6            Management           0  \n",
      "7                                 0  \n",
      "8                                 0  \n",
      "9      Customer Service           0  \n"
     ]
    }
   ],
   "source": [
    "df.describe()\n",
    "print(df.head(10))"
   ]
  },
  {
   "cell_type": "code",
   "execution_count": 5,
   "id": "682636a2",
   "metadata": {},
   "outputs": [
    {
     "data": {
      "text/plain": [
       "'Food52, a fast-growing, James Beard Award-winning online food community and crowd-sourced and curated recipe hub, is currently interviewing full- and part-time unpaid interns to work in a small team of editors, executives, and developers in its New York City headquarters.Reproducing and/or repackaging existing Food52 content for a number of partner sites, such as Huffington Post, Yahoo, Buzzfeed, and more in their various content management systemsResearching blogs and websites for the Provisions by Food52 Affiliate ProgramAssisting in day-to-day affiliate program support, such as screening affiliates and assisting in any affiliate inquiriesSupporting with PR &amp; Events when neededHelping with office administrative work, such as filing, mailing, and preparing for meetingsWorking with developers to document bugs and suggest improvements to the siteSupporting the marketing and executive staff Experience with content management systems a major plus (any blogging counts!)Familiar with the Food52 editorial voice and aestheticLoves food, appreciates the importance of home cooking and cooking with the seasonsMeticulous editor, perfectionist, obsessive attention to detail, maddened by typos and broken links, delighted by finding and fixing themCheerful under pressureExcellent communication skillsA+ multi-tasker and juggler of responsibilities big and smallInterested in and engaged with social media like Twitter, Facebook, and PinterestLoves problem-solving and collaborating to drive Food52 forwardThinks big picture but pitches in on the nitty gritty of running a small company (dishes, shopping, administrative support)Comfortable with the realities of working for a startup: being on call on evenings and weekends, and working long hours'"
      ]
     },
     "execution_count": 5,
     "metadata": {},
     "output_type": "execute_result"
    }
   ],
   "source": [
    "#taking only required field and merging them in single field\n",
    "df['text'] = df['description'] + \" \" + df['requirements']\n",
    "df['text'].head()\n",
    "df['text'][0]"
   ]
  },
  {
   "cell_type": "code",
   "execution_count": 6,
   "id": "f9b45e76",
   "metadata": {},
   "outputs": [
    {
     "name": "stdout",
     "output_type": "stream",
     "text": [
      "Index(['job_id', 'title', 'location', 'department', 'salary_range',\n",
      "       'company_profile', 'description', 'requirements', 'benefits',\n",
      "       'telecommuting', 'has_company_logo', 'has_questions', 'employment_type',\n",
      "       'required_experience', 'required_education', 'industry', 'function',\n",
      "       'fraudulent', 'text'],\n",
      "      dtype='object')\n",
      "   fraudulent                                               text\n",
      "0           0  Food52, a fast-growing, James Beard Award-winn...\n",
      "1           0  Organised - Focused - Vibrant - Awesome!Do you...\n",
      "2           0  Our client, located in Houston, is actively se...\n",
      "3           0  THE COMPANY: ESRI – Environmental Systems Rese...\n",
      "4           0  JOB TITLE: Itemization Review ManagerLOCATION:...\n"
     ]
    }
   ],
   "source": [
    "# Dropping unnecessary columns from dataframe\n",
    "print(df.columns)\n",
    "df.drop(columns=df.columns[0:len(df.columns)-2],inplace=True)\n",
    "print(df.head())"
   ]
  },
  {
   "cell_type": "code",
   "execution_count": 7,
   "id": "29d5d834",
   "metadata": {},
   "outputs": [
    {
     "name": "stdout",
     "output_type": "stream",
     "text": [
      "!\"#$%&'()*+,-./:;<=>?@[\\]^_`{|}~\n",
      "['F', 'o', 'o', 'd', '', '', ' ', 'a', ' ', 'f', 'a', 's', 't', 'g', 'r', 'o', 'w', 'i', 'n', 'g', ' ', 'J', 'a', 'm', 'e', 's', ' ', 'B', 'e', 'a', 'r', 'd', ' ', 'A', 'w', 'a', 'r', 'd', 'w', 'i', 'n', 'n', 'i', 'n', 'g', ' ', 'o', 'n', 'l', 'i', 'n', 'e', ' ', 'f', 'o', 'o', 'd', ' ', 'c', 'o', 'm', 'm', 'u', 'n', 'i', 't', 'y', ' ', 'a', 'n', 'd', ' ', 'c', 'r', 'o', 'w', 'd', 's', 'o', 'u', 'r', 'c', 'e', 'd', ' ', 'a', 'n', 'd', ' ', 'c', 'u', 'r', 'a', 't', 'e', 'd', ' ', 'r', 'e', 'c', 'i', 'p', 'e', ' ', 'h', 'u', 'b', ' ', 'i', 's', ' ', 'c', 'u', 'r', 'r', 'e', 'n', 't', 'l', 'y', ' ', 'i', 'n', 't', 'e', 'r', 'v', 'i', 'e', 'w', 'i', 'n', 'g', ' ', 'f', 'u', 'l', 'l', ' ', 'a', 'n', 'd', ' ', 'p', 'a', 'r', 't', 't', 'i', 'm', 'e', ' ', 'u', 'n', 'p', 'a', 'i', 'd', ' ', 'i', 'n', 't', 'e', 'r', 'n', 's', ' ', 't', 'o', ' ', 'w', 'o', 'r', 'k', ' ', 'i', 'n', ' ', 'a', ' ', 's', 'm', 'a', 'l', 'l', ' ', 't', 'e', 'a', 'm', ' ', 'o', 'f', ' ', 'e', 'd', 'i', 't', 'o', 'r', 's', ' ', 'e', 'x', 'e', 'c', 'u', 't', 'i', 'v', 'e', 's', ' ', 'a', 'n', 'd', ' ', 'd', 'e', 'v', 'e', 'l', 'o', 'p', 'e', 'r', 's', ' ', 'i', 'n', ' ', 'i', 't', 's', ' ', 'N', 'e', 'w', ' ', 'Y', 'o', 'r', 'k', ' ', 'C', 'i', 't', 'y', ' ', 'h', 'e', 'a', 'd', 'q', 'u', 'a', 'r', 't', 'e', 'r', 's', 'R', 'e', 'p', 'r', 'o', 'd', 'u', 'c', 'i', 'n', 'g', ' ', 'a', 'n', 'd', 'o', 'r', ' ', 'r', 'e', 'p', 'a', 'c', 'k', 'a', 'g', 'i', 'n', 'g', ' ', 'e', 'x', 'i', 's', 't', 'i', 'n', 'g', ' ', 'F', 'o', 'o', 'd', '', '', ' ', 'c', 'o', 'n', 't', 'e', 'n', 't', ' ', 'f', 'o', 'r', ' ', 'a', ' ', 'n', 'u', 'm', 'b', 'e', 'r', ' ', 'o', 'f', ' ', 'p', 'a', 'r', 't', 'n', 'e', 'r', ' ', 's', 'i', 't', 'e', 's', ' ', 's', 'u', 'c', 'h', ' ', 'a', 's', ' ', 'H', 'u', 'f', 'f', 'i', 'n', 'g', 't', 'o', 'n', ' ', 'P', 'o', 's', 't', ' ', 'Y', 'a', 'h', 'o', 'o', ' ', 'B', 'u', 'z', 'z', 'f', 'e', 'e', 'd', ' ', 'a', 'n', 'd', ' ', 'm', 'o', 'r', 'e', ' ', 'i', 'n', ' ', 't', 'h', 'e', 'i', 'r', ' ', 'v', 'a', 'r', 'i', 'o', 'u', 's', ' ', 'c', 'o', 'n', 't', 'e', 'n', 't', ' ', 'm', 'a', 'n', 'a', 'g', 'e', 'm', 'e', 'n', 't', ' ', 's', 'y', 's', 't', 'e', 'm', 's', 'R', 'e', 's', 'e', 'a', 'r', 'c', 'h', 'i', 'n', 'g', ' ', 'b', 'l', 'o', 'g', 's', ' ', 'a', 'n', 'd', ' ', 'w', 'e', 'b', 's', 'i', 't', 'e', 's', ' ', 'f', 'o', 'r', ' ', 't', 'h', 'e', ' ', 'P', 'r', 'o', 'v', 'i', 's', 'i', 'o', 'n', 's', ' ', 'b', 'y', ' ', 'F', 'o', 'o', 'd', '', '', ' ', 'A', 'f', 'f', 'i', 'l', 'i', 'a', 't', 'e', ' ', 'P', 'r', 'o', 'g', 'r', 'a', 'm', 'A', 's', 's', 'i', 's', 't', 'i', 'n', 'g', ' ', 'i', 'n', ' ', 'd', 'a', 'y', 't', 'o', 'd', 'a', 'y', ' ', 'a', 'f', 'f', 'i', 'l', 'i', 'a', 't', 'e', ' ', 'p', 'r', 'o', 'g', 'r', 'a', 'm', ' ', 's', 'u', 'p', 'p', 'o', 'r', 't', ' ', 's', 'u', 'c', 'h', ' ', 'a', 's', ' ', 's', 'c', 'r', 'e', 'e', 'n', 'i', 'n', 'g', ' ', 'a', 'f', 'f', 'i', 'l', 'i', 'a', 't', 'e', 's', ' ', 'a', 'n', 'd', ' ', 'a', 's', 's', 'i', 's', 't', 'i', 'n', 'g', ' ', 'i', 'n', ' ', 'a', 'n', 'y', ' ', 'a', 'f', 'f', 'i', 'l', 'i', 'a', 't', 'e', ' ', 'i', 'n', 'q', 'u', 'i', 'r', 'i', 'e', 's', 'S', 'u', 'p', 'p', 'o', 'r', 't', 'i', 'n', 'g', ' ', 'w', 'i', 't', 'h', ' ', 'P', 'R', ' ', 'a', 'm', 'p', ' ', 'E', 'v', 'e', 'n', 't', 's', ' ', 'w', 'h', 'e', 'n', ' ', 'n', 'e', 'e', 'd', 'e', 'd', 'H', 'e', 'l', 'p', 'i', 'n', 'g', ' ', 'w', 'i', 't', 'h', ' ', 'o', 'f', 'f', 'i', 'c', 'e', ' ', 'a', 'd', 'm', 'i', 'n', 'i', 's', 't', 'r', 'a', 't', 'i', 'v', 'e', ' ', 'w', 'o', 'r', 'k', ' ', 's', 'u', 'c', 'h', ' ', 'a', 's', ' ', 'f', 'i', 'l', 'i', 'n', 'g', ' ', 'm', 'a', 'i', 'l', 'i', 'n', 'g', ' ', 'a', 'n', 'd', ' ', 'p', 'r', 'e', 'p', 'a', 'r', 'i', 'n', 'g', ' ', 'f', 'o', 'r', ' ', 'm', 'e', 'e', 't', 'i', 'n', 'g', 's', 'W', 'o', 'r', 'k', 'i', 'n', 'g', ' ', 'w', 'i', 't', 'h', ' ', 'd', 'e', 'v', 'e', 'l', 'o', 'p', 'e', 'r', 's', ' ', 't', 'o', ' ', 'd', 'o', 'c', 'u', 'm', 'e', 'n', 't', ' ', 'b', 'u', 'g', 's', ' ', 'a', 'n', 'd', ' ', 's', 'u', 'g', 'g', 'e', 's', 't', ' ', 'i', 'm', 'p', 'r', 'o', 'v', 'e', 'm', 'e', 'n', 't', 's', ' ', 't', 'o', ' ', 't', 'h', 'e', ' ', 's', 'i', 't', 'e', 'S', 'u', 'p', 'p', 'o', 'r', 't', 'i', 'n', 'g', ' ', 't', 'h', 'e', ' ', 'm', 'a', 'r', 'k', 'e', 't', 'i', 'n', 'g', ' ', 'a', 'n', 'd', ' ', 'e', 'x', 'e', 'c', 'u', 't', 'i', 'v', 'e', ' ', 's', 't', 'a', 'f', 'f', ' ', 'E', 'x', 'p', 'e', 'r', 'i', 'e', 'n', 'c', 'e', ' ', 'w', 'i', 't', 'h', ' ', 'c', 'o', 'n', 't', 'e', 'n', 't', ' ', 'm', 'a', 'n', 'a', 'g', 'e', 'm', 'e', 'n', 't', ' ', 's', 'y', 's', 't', 'e', 'm', 's', ' ', 'a', ' ', 'm', 'a', 'j', 'o', 'r', ' ', 'p', 'l', 'u', 's', ' ', 'a', 'n', 'y', ' ', 'b', 'l', 'o', 'g', 'g', 'i', 'n', 'g', ' ', 'c', 'o', 'u', 'n', 't', 's', 'F', 'a', 'm', 'i', 'l', 'i', 'a', 'r', ' ', 'w', 'i', 't', 'h', ' ', 't', 'h', 'e', ' ', 'F', 'o', 'o', 'd', '', '', ' ', 'e', 'd', 'i', 't', 'o', 'r', 'i', 'a', 'l', ' ', 'v', 'o', 'i', 'c', 'e', ' ', 'a', 'n', 'd', ' ', 'a', 'e', 's', 't', 'h', 'e', 't', 'i', 'c', 'L', 'o', 'v', 'e', 's', ' ', 'f', 'o', 'o', 'd', ' ', 'a', 'p', 'p', 'r', 'e', 'c', 'i', 'a', 't', 'e', 's', ' ', 't', 'h', 'e', ' ', 'i', 'm', 'p', 'o', 'r', 't', 'a', 'n', 'c', 'e', ' ', 'o', 'f', ' ', 'h', 'o', 'm', 'e', ' ', 'c', 'o', 'o', 'k', 'i', 'n', 'g', ' ', 'a', 'n', 'd', ' ', 'c', 'o', 'o', 'k', 'i', 'n', 'g', ' ', 'w', 'i', 't', 'h', ' ', 't', 'h', 'e', ' ', 's', 'e', 'a', 's', 'o', 'n', 's', 'M', 'e', 't', 'i', 'c', 'u', 'l', 'o', 'u', 's', ' ', 'e', 'd', 'i', 't', 'o', 'r', ' ', 'p', 'e', 'r', 'f', 'e', 'c', 't', 'i', 'o', 'n', 'i', 's', 't', ' ', 'o', 'b', 's', 'e', 's', 's', 'i', 'v', 'e', ' ', 'a', 't', 't', 'e', 'n', 't', 'i', 'o', 'n', ' ', 't', 'o', ' ', 'd', 'e', 't', 'a', 'i', 'l', ' ', 'm', 'a', 'd', 'd', 'e', 'n', 'e', 'd', ' ', 'b', 'y', ' ', 't', 'y', 'p', 'o', 's', ' ', 'a', 'n', 'd', ' ', 'b', 'r', 'o', 'k', 'e', 'n', ' ', 'l', 'i', 'n', 'k', 's', ' ', 'd', 'e', 'l', 'i', 'g', 'h', 't', 'e', 'd', ' ', 'b', 'y', ' ', 'f', 'i', 'n', 'd', 'i', 'n', 'g', ' ', 'a', 'n', 'd', ' ', 'f', 'i', 'x', 'i', 'n', 'g', ' ', 't', 'h', 'e', 'm', 'C', 'h', 'e', 'e', 'r', 'f', 'u', 'l', ' ', 'u', 'n', 'd', 'e', 'r', ' ', 'p', 'r', 'e', 's', 's', 'u', 'r', 'e', 'E', 'x', 'c', 'e', 'l', 'l', 'e', 'n', 't', ' ', 'c', 'o', 'm', 'm', 'u', 'n', 'i', 'c', 'a', 't', 'i', 'o', 'n', ' ', 's', 'k', 'i', 'l', 'l', 's', 'A', ' ', 'm', 'u', 'l', 't', 'i', 't', 'a', 's', 'k', 'e', 'r', ' ', 'a', 'n', 'd', ' ', 'j', 'u', 'g', 'g', 'l', 'e', 'r', ' ', 'o', 'f', ' ', 'r', 'e', 's', 'p', 'o', 'n', 's', 'i', 'b', 'i', 'l', 'i', 't', 'i', 'e', 's', ' ', 'b', 'i', 'g', ' ', 'a', 'n', 'd', ' ', 's', 'm', 'a', 'l', 'l', 'I', 'n', 't', 'e', 'r', 'e', 's', 't', 'e', 'd', ' ', 'i', 'n', ' ', 'a', 'n', 'd', ' ', 'e', 'n', 'g', 'a', 'g', 'e', 'd', ' ', 'w', 'i', 't', 'h', ' ', 's', 'o', 'c', 'i', 'a', 'l', ' ', 'm', 'e', 'd', 'i', 'a', ' ', 'l', 'i', 'k', 'e', ' ', 'T', 'w', 'i', 't', 't', 'e', 'r', ' ', 'F', 'a', 'c', 'e', 'b', 'o', 'o', 'k', ' ', 'a', 'n', 'd', ' ', 'P', 'i', 'n', 't', 'e', 'r', 'e', 's', 't', 'L', 'o', 'v', 'e', 's', ' ', 'p', 'r', 'o', 'b', 'l', 'e', 'm', 's', 'o', 'l', 'v', 'i', 'n', 'g', ' ', 'a', 'n', 'd', ' ', 'c', 'o', 'l', 'l', 'a', 'b', 'o', 'r', 'a', 't', 'i', 'n', 'g', ' ', 't', 'o', ' ', 'd', 'r', 'i', 'v', 'e', ' ', 'F', 'o', 'o', 'd', '', '', ' ', 'f', 'o', 'r', 'w', 'a', 'r', 'd', 'T', 'h', 'i', 'n', 'k', 's', ' ', 'b', 'i', 'g', ' ', 'p', 'i', 'c', 't', 'u', 'r', 'e', ' ', 'b', 'u', 't', ' ', 'p', 'i', 't', 'c', 'h', 'e', 's', ' ', 'i', 'n', ' ', 'o', 'n', ' ', 't', 'h', 'e', ' ', 'n', 'i', 't', 't', 'y', ' ', 'g', 'r', 'i', 't', 't', 'y', ' ', 'o', 'f', ' ', 'r', 'u', 'n', 'n', 'i', 'n', 'g', ' ', 'a', ' ', 's', 'm', 'a', 'l', 'l', ' ', 'c', 'o', 'm', 'p', 'a', 'n', 'y', ' ', 'd', 'i', 's', 'h', 'e', 's', ' ', 's', 'h', 'o', 'p', 'p', 'i', 'n', 'g', ' ', 'a', 'd', 'm', 'i', 'n', 'i', 's', 't', 'r', 'a', 't', 'i', 'v', 'e', ' ', 's', 'u', 'p', 'p', 'o', 'r', 't', 'C', 'o', 'm', 'f', 'o', 'r', 't', 'a', 'b', 'l', 'e', ' ', 'w', 'i', 't', 'h', ' ', 't', 'h', 'e', ' ', 'r', 'e', 'a', 'l', 'i', 't', 'i', 'e', 's', ' ', 'o', 'f', ' ', 'w', 'o', 'r', 'k', 'i', 'n', 'g', ' ', 'f', 'o', 'r', ' ', 'a', ' ', 's', 't', 'a', 'r', 't', 'u', 'p', ' ', 'b', 'e', 'i', 'n', 'g', ' ', 'o', 'n', ' ', 'c', 'a', 'l', 'l', ' ', 'o', 'n', ' ', 'e', 'v', 'e', 'n', 'i', 'n', 'g', 's', ' ', 'a', 'n', 'd', ' ', 'w', 'e', 'e', 'k', 'e', 'n', 'd', 's', ' ', 'a', 'n', 'd', ' ', 'w', 'o', 'r', 'k', 'i', 'n', 'g', ' ', 'l', 'o', 'n', 'g', ' ', 'h', 'o', 'u', 'r', 's']\n"
     ]
    }
   ],
   "source": [
    "#function to remove punctuation and digits from document\n",
    "\n",
    "import string\n",
    "import re\n",
    "\n",
    "print(string.punctuation)\n",
    "\n",
    "def remove_punction(text):\n",
    "    text_nonpunction=[]\n",
    "    for x in text:\n",
    "        text_nonpunction.append([re.sub('\\d',\"\",char) for char in x if char not in string.punctuation])\n",
    "    return text_nonpunction\n",
    "\n",
    "df[\"clean_text\"]=remove_punction(df[\"text\"]) \n",
    "\n",
    "print(df['clean_text'][0])"
   ]
  },
  {
   "cell_type": "code",
   "execution_count": 8,
   "id": "aa3ced00",
   "metadata": {},
   "outputs": [
    {
     "name": "stdout",
     "output_type": "stream",
     "text": [
      "Food a fastgrowing James Beard Awardwinning online food community and crowdsourced and curated recipe hub is currently interviewing full and parttime unpaid interns to work in a small team of editors executives and developers in its New York City headquartersReproducing andor repackaging existing Food content for a number of partner sites such as Huffington Post Yahoo Buzzfeed and more in their various content management systemsResearching blogs and websites for the Provisions by Food Affiliate ProgramAssisting in daytoday affiliate program support such as screening affiliates and assisting in any affiliate inquiriesSupporting with PR amp Events when neededHelping with office administrative work such as filing mailing and preparing for meetingsWorking with developers to document bugs and suggest improvements to the siteSupporting the marketing and executive staff Experience with content management systems a major plus any blogging countsFamiliar with the Food editorial voice and aestheticLoves food appreciates the importance of home cooking and cooking with the seasonsMeticulous editor perfectionist obsessive attention to detail maddened by typos and broken links delighted by finding and fixing themCheerful under pressureExcellent communication skillsA multitasker and juggler of responsibilities big and smallInterested in and engaged with social media like Twitter Facebook and PinterestLoves problemsolving and collaborating to drive Food forwardThinks big picture but pitches in on the nitty gritty of running a small company dishes shopping administrative supportComfortable with the realities of working for a startup being on call on evenings and weekends and working long hours\n"
     ]
    }
   ],
   "source": [
    "# a function to combine all elements\n",
    "def remove_punct_combine(text):\n",
    "    comb_text=[]\n",
    "    for x in text:\n",
    "        comb_text.append(\"\".join([char for char in x if char not in string.punctuation]))\n",
    "    return comb_text\n",
    "\n",
    "df['clean_text']=remove_punct_combine(df['clean_text'])\n",
    "print(df['clean_text'][0])"
   ]
  },
  {
   "cell_type": "code",
   "execution_count": 9,
   "id": "4b92a38e",
   "metadata": {},
   "outputs": [
    {
     "name": "stdout",
     "output_type": "stream",
     "text": [
      "Requirement already satisfied: nltk in c:\\users\\yogi\\anaconda3\\lib\\site-packages (3.6.5)\n",
      "Requirement already satisfied: click in c:\\users\\yogi\\anaconda3\\lib\\site-packages (from nltk) (8.0.3)\n",
      "Requirement already satisfied: joblib in c:\\users\\yogi\\anaconda3\\lib\\site-packages (from nltk) (1.1.0)\n",
      "Requirement already satisfied: regex>=2021.8.3 in c:\\users\\yogi\\anaconda3\\lib\\site-packages (from nltk) (2021.8.3)\n",
      "Requirement already satisfied: tqdm in c:\\users\\yogi\\anaconda3\\lib\\site-packages (from nltk) (4.62.3)\n",
      "Requirement already satisfied: colorama in c:\\users\\yogi\\anaconda3\\lib\\site-packages (from click->nltk) (0.4.4)\n",
      "['Food', 'a', 'fastgrowing', 'James', 'Beard', 'Awardwinning', 'online', 'food', 'community', 'and', 'crowdsourced', 'and', 'curated', 'recipe', 'hub', 'is', 'currently', 'interviewing', 'full', 'and', 'parttime', 'unpaid', 'interns', 'to', 'work', 'in', 'a', 'small', 'team', 'of', 'editors', 'executives', 'and', 'developers', 'in', 'its', 'New', 'York', 'City', 'headquartersReproducing', 'andor', 'repackaging', 'existing', 'Food', 'content', 'for', 'a', 'number', 'of', 'partner', 'sites', 'such', 'as', 'Huffington', 'Post', 'Yahoo', 'Buzzfeed', 'and', 'more', 'in', 'their', 'various', 'content', 'management', 'systemsResearching', 'blogs', 'and', 'websites', 'for', 'the', 'Provisions', 'by', 'Food', 'Affiliate', 'ProgramAssisting', 'in', 'daytoday', 'affiliate', 'program', 'support', 'such', 'as', 'screening', 'affiliates', 'and', 'assisting', 'in', 'any', 'affiliate', 'inquiriesSupporting', 'with', 'PR', 'amp', 'Events', 'when', 'neededHelping', 'with', 'office', 'administrative', 'work', 'such', 'as', 'filing', 'mailing', 'and', 'preparing', 'for', 'meetingsWorking', 'with', 'developers', 'to', 'document', 'bugs', 'and', 'suggest', 'improvements', 'to', 'the', 'siteSupporting', 'the', 'marketing', 'and', 'executive', 'staff', 'Experience', 'with', 'content', 'management', 'systems', 'a', 'major', 'plus', 'any', 'blogging', 'countsFamiliar', 'with', 'the', 'Food', 'editorial', 'voice', 'and', 'aestheticLoves', 'food', 'appreciates', 'the', 'importance', 'of', 'home', 'cooking', 'and', 'cooking', 'with', 'the', 'seasonsMeticulous', 'editor', 'perfectionist', 'obsessive', 'attention', 'to', 'detail', 'maddened', 'by', 'typos', 'and', 'broken', 'links', 'delighted', 'by', 'finding', 'and', 'fixing', 'themCheerful', 'under', 'pressureExcellent', 'communication', 'skillsA', 'multitasker', 'and', 'juggler', 'of', 'responsibilities', 'big', 'and', 'smallInterested', 'in', 'and', 'engaged', 'with', 'social', 'media', 'like', 'Twitter', 'Facebook', 'and', 'PinterestLoves', 'problemsolving', 'and', 'collaborating', 'to', 'drive', 'Food', 'forwardThinks', 'big', 'picture', 'but', 'pitches', 'in', 'on', 'the', 'nitty', 'gritty', 'of', 'running', 'a', 'small', 'company', 'dishes', 'shopping', 'administrative', 'supportComfortable', 'with', 'the', 'realities', 'of', 'working', 'for', 'a', 'startup', 'being', 'on', 'call', 'on', 'evenings', 'and', 'weekends', 'and', 'working', 'long', 'hours']\n"
     ]
    }
   ],
   "source": [
    "# fucntion to tokenize Sentence\n",
    "! pip install nltk\n",
    "import nltk\n",
    "from nltk.tokenize import word_tokenize\n",
    "def token_word(text):\n",
    "    sents=[]\n",
    "    for x in text:\n",
    "        sents.append(word_tokenize(x))\n",
    "    return sents\n",
    "df[\"token_word\"]=token_word(df[\"clean_text\"])\n",
    "print(df[\"token_word\"][0])"
   ]
  },
  {
   "cell_type": "code",
   "execution_count": 10,
   "id": "16c99d18",
   "metadata": {},
   "outputs": [
    {
     "name": "stderr",
     "output_type": "stream",
     "text": [
      "[nltk_data] Downloading package stopwords to\n",
      "[nltk_data]     C:\\Users\\Yogi\\AppData\\Roaming\\nltk_data...\n",
      "[nltk_data]   Package stopwords is already up-to-date!\n"
     ]
    },
    {
     "name": "stdout",
     "output_type": "stream",
     "text": [
      "['Food', 'fastgrowing', 'James', 'Beard', 'Awardwinning', 'online', 'food', 'community', 'crowdsourced', 'curated', 'recipe', 'hub', 'currently', 'interviewing', 'full', 'parttime', 'unpaid', 'interns', 'work', 'small', 'team', 'editors', 'executives', 'developers', 'New', 'York', 'City', 'headquartersReproducing', 'andor', 'repackaging', 'existing', 'Food', 'content', 'number', 'partner', 'sites', 'Huffington', 'Post', 'Yahoo', 'Buzzfeed', 'various', 'content', 'management', 'systemsResearching', 'blogs', 'websites', 'Provisions', 'Food', 'Affiliate', 'ProgramAssisting', 'daytoday', 'affiliate', 'program', 'support', 'screening', 'affiliates', 'assisting', 'affiliate', 'inquiriesSupporting', 'PR', 'amp', 'Events', 'neededHelping', 'office', 'administrative', 'work', 'filing', 'mailing', 'preparing', 'meetingsWorking', 'developers', 'document', 'bugs', 'suggest', 'improvements', 'siteSupporting', 'marketing', 'executive', 'staff', 'Experience', 'content', 'management', 'systems', 'major', 'plus', 'blogging', 'countsFamiliar', 'Food', 'editorial', 'voice', 'aestheticLoves', 'food', 'appreciates', 'importance', 'home', 'cooking', 'cooking', 'seasonsMeticulous', 'editor', 'perfectionist', 'obsessive', 'attention', 'detail', 'maddened', 'typos', 'broken', 'links', 'delighted', 'finding', 'fixing', 'themCheerful', 'pressureExcellent', 'communication', 'skillsA', 'multitasker', 'juggler', 'responsibilities', 'big', 'smallInterested', 'engaged', 'social', 'media', 'like', 'Twitter', 'Facebook', 'PinterestLoves', 'problemsolving', 'collaborating', 'drive', 'Food', 'forwardThinks', 'big', 'picture', 'pitches', 'nitty', 'gritty', 'running', 'small', 'company', 'dishes', 'shopping', 'administrative', 'supportComfortable', 'realities', 'working', 'startup', 'call', 'evenings', 'weekends', 'working', 'long', 'hours']\n"
     ]
    }
   ],
   "source": [
    "# function to remove stopword removed \n",
    "from nltk.corpus import stopwords\n",
    "nltk.download('stopwords')\n",
    "from string import punctuation\n",
    "customStopWords = set(stopwords.words('english')+list(punctuation))\n",
    "\n",
    "def stop_word(text):\n",
    "    stop_words=[]\n",
    "    for x in text:\n",
    "        stop_words.append([word for word in x if word not in customStopWords])\n",
    "    return stop_words\n",
    "df['stop_word']=stop_word(df['token_word'])\n",
    "\n",
    "print(df['stop_word'][0])\n"
   ]
  },
  {
   "cell_type": "code",
   "execution_count": 11,
   "id": "d3ae2354",
   "metadata": {
    "scrolled": true
   },
   "outputs": [
    {
     "name": "stdout",
     "output_type": "stream",
     "text": [
      "['food', 'fastgrow', 'jame', 'beard', 'awardwin', 'onlin', 'food', 'commun', 'crowdsourc', 'curat', 'recip', 'hub', 'current', 'interview', 'full', 'parttim', 'unpaid', 'intern', 'work', 'small', 'team', 'editor', 'execut', 'develop', 'new', 'york', 'citi', 'headquartersreproduc', 'andor', 'repackag', 'exist', 'food', 'content', 'number', 'partner', 'site', 'huffington', 'post', 'yahoo', 'buzzfe', 'variou', 'content', 'manag', 'systemsresearch', 'blog', 'websit', 'provis', 'food', 'affili', 'programassist', 'daytoday', 'affili', 'program', 'support', 'screen', 'affili', 'assist', 'affili', 'inquiriessupport', 'pr', 'amp', 'event', 'neededhelp', 'offic', 'administr', 'work', 'file', 'mail', 'prepar', 'meetingswork', 'develop', 'document', 'bug', 'suggest', 'improv', 'sitesupport', 'market', 'execut', 'staff', 'experi', 'content', 'manag', 'system', 'major', 'plu', 'blog', 'countsfamiliar', 'food', 'editori', 'voic', 'aestheticlov', 'food', 'appreci', 'import', 'home', 'cook', 'cook', 'seasonsmeticul', 'editor', 'perfectionist', 'obsess', 'attent', 'detail', 'madden', 'typo', 'broken', 'link', 'delight', 'find', 'fix', 'themcheer', 'pressureexcel', 'commun', 'skillsa', 'multitask', 'juggler', 'respons', 'big', 'smallinterest', 'engag', 'social', 'media', 'like', 'twitter', 'facebook', 'pinterestlov', 'problemsolv', 'collabor', 'drive', 'food', 'forwardthink', 'big', 'pictur', 'pitch', 'nitti', 'gritti', 'run', 'small', 'compani', 'dish', 'shop', 'administr', 'supportcomfort', 'realiti', 'work', 'startup', 'call', 'even', 'weekend', 'work', 'long', 'hour']\n"
     ]
    }
   ],
   "source": [
    "# function for stemming document\n",
    "ps = nltk.PorterStemmer()\n",
    "def stemming(tokenized_text):\n",
    "    st=[]\n",
    "    for x in tokenized_text:\n",
    "        st.append([ps.stem(word) for word in x])\n",
    "    return st\n",
    "    \n",
    "df['stemming']=stemming(df['stop_word'])\n",
    "\n",
    "print(df['stemming'][0])"
   ]
  },
  {
   "cell_type": "code",
   "execution_count": 12,
   "id": "19c796ea",
   "metadata": {},
   "outputs": [
    {
     "name": "stderr",
     "output_type": "stream",
     "text": [
      "[nltk_data] Downloading package wordnet to\n",
      "[nltk_data]     C:\\Users\\Yogi\\AppData\\Roaming\\nltk_data...\n",
      "[nltk_data]   Package wordnet is already up-to-date!\n"
     ]
    }
   ],
   "source": [
    "#function for lemmatization a document\n",
    "nltk.download('wordnet')\n",
    "wn = nltk.WordNetLemmatizer()\n",
    "def lemmatizing(tokenized_text):\n",
    "    lem=[]\n",
    "    for x in tokenized_text:\n",
    "        lem.append([wn.lemmatize(word) for word in x])\n",
    "    return lem\n",
    "\n",
    "df['lemmatize']=lemmatizing(df['stemming'])\n",
    "\n"
   ]
  },
  {
   "cell_type": "code",
   "execution_count": 13,
   "id": "9662509b",
   "metadata": {},
   "outputs": [
    {
     "name": "stdout",
     "output_type": "stream",
     "text": [
      "       fraudulent                                           full_doc\n",
      "0               0  food fastgrow jame beard awardwin onlin food c...\n",
      "1               0  organis focus vibrant awesomedo passion custom...\n",
      "2               0  our client locat houston activ seek experienc ...\n",
      "3               0  the compani esri – environment system research...\n",
      "4               0  job titl item review managerloc fort worth tx ...\n",
      "...           ...                                                ...\n",
      "17875           0  just case first time ’ visit websit vend award...\n",
      "17876           0  the payrol account focu primarili payrol funct...\n",
      "17877           0  experienc project cost control staff engin req...\n",
      "17878           0  nemsia studio look experienc visualgraph desig...\n",
      "17879           0  who wevend award win web base point sale softw...\n",
      "\n",
      "[17880 rows x 2 columns]\n"
     ]
    }
   ],
   "source": [
    "#function to create final document/text for vectorization\n",
    "def final_doc(text):\n",
    "    str=\"\"\n",
    "    str+=\" \".join(text)\n",
    "    return str\n",
    "\n",
    "df[\"full_doc\"]=df['lemmatize'].apply(final_doc)\n",
    "\n",
    "#dropping previously created columns and retaining only final clean document/text for model\n",
    "df.drop(columns=df.columns[1:-1],inplace=True)\n",
    "print(df)"
   ]
  },
  {
   "cell_type": "code",
   "execution_count": 14,
   "id": "a673f4c3",
   "metadata": {},
   "outputs": [],
   "source": [
    "#creating target and features and splitting them into train and test datasets\n",
    "from sklearn.model_selection import train_test_split\n",
    "\n",
    "X = df['full_doc']\n",
    "y = df['fraudulent']\n",
    "X_train, X_test, y_train, y_test = train_test_split(X, y, test_size = 0.2, random_state = 33)"
   ]
  },
  {
   "cell_type": "code",
   "execution_count": 15,
   "id": "58b6d647",
   "metadata": {
    "scrolled": true
   },
   "outputs": [
    {
     "name": "stdout",
     "output_type": "stream",
     "text": [
      "(14304, 1960816)\n",
      "(3576, 1960816)\n"
     ]
    }
   ],
   "source": [
    "#Vectorization using CountVectorizer\n",
    "from sklearn.feature_extraction.text import CountVectorizer\n",
    "\n",
    "cv=CountVectorizer(binary=False,ngram_range=(2,3))\n",
    "cv_train= cv.fit_transform(X_train)\n",
    "cv_test=cv.transform(X_test)\n",
    "print(cv_train.shape)\n",
    "print(cv_test.shape)"
   ]
  },
  {
   "cell_type": "markdown",
   "id": "2bfcab62",
   "metadata": {},
   "source": [
    "# Machine learning models implementation"
   ]
  },
  {
   "cell_type": "code",
   "execution_count": 16,
   "id": "11dfdf57",
   "metadata": {},
   "outputs": [
    {
     "name": "stdout",
     "output_type": "stream",
     "text": [
      "Accuracy Score : 0.959731543624161\n",
      "Precision Score : 1.0\n",
      "              precision    recall  f1-score   support\n",
      "\n",
      "           0       0.96      1.00      0.98      3374\n",
      "           1       1.00      0.29      0.45       202\n",
      "\n",
      "    accuracy                           0.96      3576\n",
      "   macro avg       0.98      0.64      0.71      3576\n",
      "weighted avg       0.96      0.96      0.95      3576\n",
      "\n"
     ]
    },
    {
     "data": {
      "image/png": "[encoded data removed]",
      "text/plain": [
       "<Figure size 432x288 with 1 Axes>"
      ]
     },
     "metadata": {
      "needs_background": "light"
     },
     "output_type": "display_data"
    }
   ],
   "source": [
    "from sklearn.tree import DecisionTreeClassifier\n",
    "\n",
    "dt_model= DecisionTreeClassifier(criterion='entropy',max_depth=5)\n",
    "\n",
    "dt_model.fit(cv_train,y_train)\n",
    "\n",
    "dt_pred=dt_model.predict(cv_test)\n",
    "\n",
    "from sklearn.metrics import precision_score, recall_score, confusion_matrix, classification_report, accuracy_score, f1_score\n",
    "from sklearn.model_selection import cross_val_score\n",
    "\n",
    "acc1=accuracy_score(y_test,dt_pred)\n",
    "pre1=precision_score(y_test,dt_pred)\n",
    "\n",
    "print(\"Accuracy Score :\",acc1)\n",
    "print(\"Precision Score :\",pre1)\n",
    "\n",
    "import seaborn as sns\n",
    "sns.heatmap(confusion_matrix(y_test,dt_pred),annot=True, cmap='summer', cbar=False, linewidths=3, linecolor='r', square=True, xticklabels=['fake','real'],yticklabels=['fake','real'],fmt='.4g')\n",
    "\n",
    "print(classification_report(y_test,dt_pred))\n",
    "\n",
    "\n"
   ]
  },
  {
   "cell_type": "code",
   "execution_count": 17,
   "id": "9e32adc7",
   "metadata": {},
   "outputs": [
    {
     "name": "stdout",
     "output_type": "stream",
     "text": [
      "Accuracy Score : 0.959731543624161\n",
      "Precision Score : 1.0\n",
      "              precision    recall  f1-score   support\n",
      "\n",
      "           0       0.96      1.00      0.98      3374\n",
      "           1       1.00      0.29      0.45       202\n",
      "\n",
      "    accuracy                           0.96      3576\n",
      "   macro avg       0.98      0.64      0.71      3576\n",
      "weighted avg       0.96      0.96      0.95      3576\n",
      "\n"
     ]
    },
    {
     "data": {
      "image/png": "[encoded data removed]",
      "text/plain": [
       "<Figure size 432x288 with 1 Axes>"
      ]
     },
     "metadata": {
      "needs_background": "light"
     },
     "output_type": "display_data"
    }
   ],
   "source": [
    "from sklearn.svm import SVC\n",
    "\n",
    "svc_model= SVC(kernel='sigmoid', gamma=1.0)\n",
    "svc_model.fit(cv_train,y_train)\n",
    "\n",
    "svc_pred=dt_model.predict(cv_test)\n",
    "acc2=accuracy_score(y_test,svc_pred)\n",
    "pre2=precision_score(y_test,svc_pred)\n",
    "print(\"Accuracy Score :\",accuracy_score(y_test,svc_pred))\n",
    "print(\"Precision Score :\",precision_score(y_test,svc_pred))\n",
    "\n",
    "import seaborn as sns\n",
    "sns.heatmap(confusion_matrix(y_test,svc_pred),annot=True, cmap='Blues', cbar=False, linewidths=3, linecolor='r', square=True, xticklabels=['fake','real'],yticklabels=['fake','real'],fmt='.4g')\n",
    "print(classification_report(y_test,svc_pred))\n"
   ]
  },
  {
   "cell_type": "code",
   "execution_count": 18,
   "id": "6fc98bea",
   "metadata": {},
   "outputs": [
    {
     "name": "stdout",
     "output_type": "stream",
     "text": [
      "Accuracy Score : 0.9711968680089486\n",
      "Precision Score : 0.8278145695364238\n",
      "              precision    recall  f1-score   support\n",
      "\n",
      "           0       0.98      0.99      0.98      3374\n",
      "           1       0.83      0.62      0.71       202\n",
      "\n",
      "    accuracy                           0.97      3576\n",
      "   macro avg       0.90      0.81      0.85      3576\n",
      "weighted avg       0.97      0.97      0.97      3576\n",
      "\n"
     ]
    },
    {
     "data": {
      "image/png": "[encoded data removed]",
      "text/plain": [
       "<Figure size 432x288 with 1 Axes>"
      ]
     },
     "metadata": {
      "needs_background": "light"
     },
     "output_type": "display_data"
    }
   ],
   "source": [
    "from sklearn.naive_bayes import MultinomialNB\n",
    "\n",
    "mnb_model = MultinomialNB()\n",
    "\n",
    "mnb_model.fit(cv_train,y_train)\n",
    "\n",
    "mnb_pred=mnb_model.predict(cv_test)\n",
    "acc3=accuracy_score(y_test,mnb_pred)\n",
    "pre3=precision_score(y_test,mnb_pred)\n",
    "print(\"Accuracy Score :\",accuracy_score(y_test,mnb_pred))\n",
    "print(\"Precision Score :\",precision_score(y_test,mnb_pred))\n",
    "\n",
    "sns.heatmap(confusion_matrix(y_test,mnb_pred),annot=True, cmap='CMRmap', cbar=False, linewidths=3, linecolor='r', square=True, xticklabels=['fake','real'],yticklabels=['fake','real'],fmt='.4g')\n",
    "\n",
    "print(classification_report(y_test,mnb_pred))\n"
   ]
  },
  {
   "cell_type": "code",
   "execution_count": 19,
   "id": "9e18b7be",
   "metadata": {},
   "outputs": [
    {
     "data": {
      "image/png": "[encoded data removed]",
      "text/plain": [
       "<Figure size 1008x432 with 1 Axes>"
      ]
     },
     "metadata": {
      "needs_background": "light"
     },
     "output_type": "display_data"
    }
   ],
   "source": [
    "import matplotlib.pyplot as plt\n",
    "plt.figure(figsize=(14,6))\n",
    "models = [\"decision Tree\",\"Support Vector Classifier\",\"MultinomailNB\"]\n",
    "acc= [acc1,acc2,acc3]\n",
    "pre= [pre1,pre2,pre3]\n",
    "plt.bar(models,acc)\n",
    "plt.title('Accuracy of models')\n",
    "plt.xlabel('Models')\n",
    "plt.ylabel('Accuracy')\n",
    "plt.show()"
   ]
  },
  {
   "cell_type": "code",
   "execution_count": 20,
   "id": "18774032",
   "metadata": {
    "scrolled": true
   },
   "outputs": [
    {
     "data": {
      "image/png": "[encoded data removed]",
      "text/plain": [
       "<Figure size 1008x432 with 1 Axes>"
      ]
     },
     "metadata": {
      "needs_background": "light"
     },
     "output_type": "display_data"
    }
   ],
   "source": [
    "import matplotlib.pyplot as plt\n",
    "plt.figure(figsize=(14,6))\n",
    "plt.bar(models,pre,color='red')\n",
    "plt.title('Precision of models')\n",
    "plt.xlabel('Models')\n",
    "plt.ylabel('Precision')\n",
    "plt.show()"
   ]
  },
  {
   "cell_type": "markdown",
   "id": "eeab5b4a",
   "metadata": {},
   "source": [
    "# Conclusion\n",
    "After Training and predciting with Multiple algorithms on test data set, We can conclude that multinomial model have highest accuracy but less precision and decision tree model and SVM(Support Vector Classifier) model also have high accuracy with good precision score but SVM(Support Vector Classifier) have more processing time than decision tree model. we can choose decision   tree classifier as best algorithms to to sovle NLP problem, there are a couple of dvantages of using an descision tree classifier. Firstly, They are very fast and efficient compared to other classification algorithms. As decision trees are simple hence they require less effort for understanding an algorithm. The decision tree is one of the machine learning algorithms where we don’t worry about its feature scaling. "
   ]
  },
  {
   "cell_type": "code",
   "execution_count": null,
   "id": "6fa37b0b",
   "metadata": {},
   "outputs": [],
   "source": []
  }
 ],
 "metadata": {
  "kernelspec": {
   "display_name": "Python 3 (ipykernel)",
   "language": "python",
   "name": "python3"
  },
  "language_info": {
   "codemirror_mode": {
    "name": "ipython",
    "version": 3
   },
   "file_extension": ".py",
   "mimetype": "text/x-python",
   "name": "python",
   "nbconvert_exporter": "python",
   "pygments_lexer": "ipython3",
   "version": "3.9.7"
  }
 },
 "nbformat": 4,
 "nbformat_minor": 5
}
